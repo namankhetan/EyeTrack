{
 "cells": [
  {
   "cell_type": "code",
   "execution_count": 3,
   "metadata": {},
   "outputs": [],
   "source": [
    "from scipy.spatial import distance as dist\n",
    "from imutils import face_utils\n",
    "import numpy as np\n",
    "import datetime\n",
    "import imutils\n",
    "import time\n",
    "import dlib\n",
    "import cv2"
   ]
  },
  {
   "cell_type": "code",
   "execution_count": 4,
   "metadata": {},
   "outputs": [],
   "source": [
    "detector = dlib.get_frontal_face_detector()\n",
    "predictor = dlib.shape_predictor('/home/amit/driver1/facial-landmarks/shape_predictor_68_face_landmarks.dat')"
   ]
  },
  {
   "cell_type": "code",
   "execution_count": 5,
   "metadata": {},
   "outputs": [
    {
     "data": {
      "text/plain": [
       "True"
      ]
     },
     "execution_count": 5,
     "metadata": {},
     "output_type": "execute_result"
    }
   ],
   "source": [
    "    gray = cv2.imread('user.1.jpg',0)\n",
    "    \n",
    "    rects = detector(gray, 0)\n",
    "    \n",
    "    def eye_aspect_ratio(eye):\n",
    "\n",
    "        A = dist.euclidean(eye[1], eye[5])\n",
    "        B = dist.euclidean(eye[2], eye[4])\n",
    "        C = dist.euclidean(eye[0], eye[3])\n",
    "        ear = (A + B) / (2.0 * C)\n",
    "        return ear\n",
    "    \n",
    "    (lStart, lEnd) = face_utils.FACIAL_LANDMARKS_IDXS[\"left_eye\"]\n",
    "    (rStart, rEnd) = face_utils.FACIAL_LANDMARKS_IDXS[\"right_eye\"]\n",
    "    \n",
    "    for rect in rects:\n",
    "        shape = predictor(gray, rect)\n",
    "        shape = face_utils.shape_to_np(shape)\n",
    "        \n",
    "        leftEye = shape[lStart:lEnd]\n",
    "        rightEye = shape[rStart:rEnd]\n",
    "        leftEAR = eye_aspect_ratio(leftEye)\n",
    "        rightEAR = eye_aspect_ratio(rightEye)\n",
    "        \n",
    "        ear = (leftEAR + rightEAR) / 2.0\n",
    "        \n",
    "            \n",
    "        for (name, (j, k)) in face_utils.FACIAL_LANDMARKS_IDXS.items():\n",
    "            (x, y, w, h) = cv2.boundingRect(np.array([shape[j:k]]))\n",
    "            roi = gray[y-10:y + h+10, x-10:x + w+10]\n",
    "            #roi = imutils.resize(roi, width=250, inter=cv2.INTER_CUBIC)\n",
    "            if(j==36):\n",
    "                right_eye = roi\n",
    "            elif(j==42):\n",
    "                left_eye = roi\n",
    "                \n",
    "     \n",
    "        \n",
    "    def finding_pupil_centre(right_eye, ear):\n",
    "        equ = cv2.equalizeHist(right_eye)\n",
    "        hist, bin_edges = np.histogram(equ.flatten(), 256, [0,256])\n",
    "        pupil_pixels = equ.size*0.08\n",
    "        threshold_fake = 0\n",
    "        for i in range(0, 256):\n",
    "            threshold_fake = threshold_fake+hist[i]\n",
    "            if(threshold_fake>pupil_pixels):\n",
    "                break\n",
    "        \n",
    "        threshold1 = i\n",
    "    \n",
    "        new_img = np.zeros((equ.shape[0],equ.shape[1]))\n",
    "        for i in range(5, equ.shape[0]-5):\n",
    "            for j in range(5, equ.shape[1]-5):\n",
    "                if equ[i,j] < threshold1:\n",
    "                    new_img[i,j] = 255\n",
    "                else:\n",
    "                    new_img[i,j] = 0\n",
    "                \n",
    "        kernel = np.ones((2,2), np.uint8)\n",
    "        new_img_er1 = cv2.erode(new_img, kernel, iterations=1)           \n",
    "    \n",
    "        new_img_er1 = np.uint8(new_img_er1)\n",
    "        im2, contours, hierarchy = cv2.findContours(new_img_er1,cv2.RETR_TREE,cv2.CHAIN_APPROX_SIMPLE)\n",
    "        if(not contours):\n",
    "            return right_eye\n",
    "        \n",
    "        right_eye2 = right_eye\n",
    "        c = max(contours, key = cv2.contourArea)\n",
    "        M = cv2.moments(c)\n",
    "\n",
    "        if M[\"m00\"] != 0:\n",
    "            cX = int(M[\"m10\"] / M[\"m00\"])\n",
    "            cY = int(M[\"m01\"] / M[\"m00\"])\n",
    "        else:\n",
    "            cX, cY = 0, 0\n",
    "            \n",
    "        if(ear<0.2):\n",
    "            cX, cY = 0, 0    \n",
    "        cv2.circle(right_eye2, (cX, cY), 2, (255, 255, 255), -1)\n",
    "        \n",
    "        return right_eye2\n",
    "    \n",
    "    new_right_eye = finding_pupil_centre(right_eye, ear)\n",
    "    new_left_eye = finding_pupil_centre(left_eye, ear)\n",
    "    cv2.imwrite('user.1.(right_eye_pupil).jpg', new_right_eye)\n",
    "    cv2.imwrite('user.1.(left_eye_pupil).jpg', new_left_eye)"
   ]
  }
 ],
 "metadata": {
  "kernelspec": {
   "display_name": "Python 3",
   "language": "python",
   "name": "python3"
  },
  "language_info": {
   "codemirror_mode": {
    "name": "ipython",
    "version": 3
   },
   "file_extension": ".py",
   "mimetype": "text/x-python",
   "name": "python",
   "nbconvert_exporter": "python",
   "pygments_lexer": "ipython3",
   "version": "3.6.5"
  }
 },
 "nbformat": 4,
 "nbformat_minor": 2
}
