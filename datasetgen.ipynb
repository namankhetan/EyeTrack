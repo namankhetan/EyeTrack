{
 "cells": [
  {
   "cell_type": "code",
   "execution_count": 1,
   "metadata": {},
   "outputs": [
    {
     "name": "stdout",
     "output_type": "stream",
     "text": [
      "enter your id: 1\n"
     ]
    }
   ],
   "source": [
    "import cv2\n",
    "import numpy as np\n",
    "cam = cv2.VideoCapture(0)\n",
    "detector = cv2.CascadeClassifier('haarcascade_frontalface_default.xml')\n",
    "Id=input('enter your id: ')\n",
    "sampleNum = 0\n",
    "while(True):\n",
    "    ret, img = cam.read()\n",
    "    gray = cv2.cvtColor(img, cv2.COLOR_BGR2GRAY)\n",
    "    faces = detector.detectMultiScale(gray, 1.3, 5)\n",
    "    for (x,y,w,h) in faces:\n",
    "        cv2.rectangle(img, (x,y), (x+w,y+h), (255,0,0), 2)\n",
    "        \n",
    "        \n",
    "    sampleNum +=1\n",
    "    cv2.imwrite(\"dataSet(daylight)/user.\"+Id+'.'+str(sampleNum)+\".jpg\", gray[y-20:y+h+20, x-20:x+w+20])\n",
    "    cv2.imshow('frame', img)\n",
    "    if cv2.waitKey(100)&0xFF==ord('q'):\n",
    "        break\n",
    "    elif sampleNum>35:\n",
    "        break\n",
    "\n",
    "        \n",
    "cam.release()\n",
    "cv2.destroyAllWindows()"
   ]
  },
  {
   "cell_type": "code",
   "execution_count": null,
   "metadata": {},
   "outputs": [],
   "source": []
  },
  {
   "cell_type": "code",
   "execution_count": null,
   "metadata": {},
   "outputs": [],
   "source": []
  }
 ],
 "metadata": {
  "kernelspec": {
   "display_name": "Python 3",
   "language": "python",
   "name": "python3"
  },
  "language_info": {
   "codemirror_mode": {
    "name": "ipython",
    "version": 3
   },
   "file_extension": ".py",
   "mimetype": "text/x-python",
   "name": "python",
   "nbconvert_exporter": "python",
   "pygments_lexer": "ipython3",
   "version": "3.6.5"
  }
 },
 "nbformat": 4,
 "nbformat_minor": 2
}
