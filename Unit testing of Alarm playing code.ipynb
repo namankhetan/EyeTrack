{
 "cells": [
  {
   "cell_type": "code",
   "execution_count": 1,
   "metadata": {},
   "outputs": [
    {
     "name": "stdout",
     "output_type": "stream",
     "text": [
      "pygame 1.9.4\n",
      "Hello from the pygame community. https://www.pygame.org/contribute.html\n"
     ]
    }
   ],
   "source": [
    "from scipy.spatial import distance as dist\n",
    "from imutils.video import VideoStream\n",
    "from imutils import face_utils\n",
    "import pygame\n",
    "import datetime\n",
    "import imutils\n",
    "import time\n",
    "import dlib\n",
    "import cv2"
   ]
  },
  {
   "cell_type": "code",
   "execution_count": 2,
   "metadata": {},
   "outputs": [],
   "source": [
    "detector = dlib.get_frontal_face_detector()\n",
    "predictor = dlib.shape_predictor('/home/amit/driver1/facial-landmarks/shape_predictor_68_face_landmarks.dat')"
   ]
  },
  {
   "cell_type": "code",
   "execution_count": null,
   "metadata": {},
   "outputs": [],
   "source": [
    "vs = VideoStream(0).start()\n",
    "time.sleep(2.0)\n",
    "\n",
    "COUNTER = 0\n",
    "while True:\n",
    "\n",
    "    frame = vs.read()\n",
    "    time.sleep(1.0)\n",
    "    pygame.mixer.init()\n",
    "    \n",
    "    gray = cv2.cvtColor(frame, cv2.COLOR_BGR2GRAY)\n",
    "    rects = detector(gray, 0)\n",
    "    \n",
    "    def sound_alarm_on(path):\n",
    "        pygame.mixer.music.load(path)\n",
    "        pygame.mixer.music.play(0)\n",
    "        \n",
    "    def sound_alarm_off():\n",
    "        pygame.mixer.music.stop()\n",
    "        \n",
    "    def eye_aspect_ratio(eye):\n",
    "\n",
    "        A = dist.euclidean(eye[1], eye[5])\n",
    "        B = dist.euclidean(eye[2], eye[4])\n",
    "        C = dist.euclidean(eye[0], eye[3])\n",
    "        ear = (A + B) / (2.0 * C)\n",
    "        return ear\n",
    "    \n",
    "    EYE_AR_THRESH = 0.2\n",
    "    EYE_AR_CONSEC_FRAMES = 10\n",
    "  \n",
    "    ALARM_ON = False\n",
    "    \n",
    "    (lStart, lEnd) = face_utils.FACIAL_LANDMARKS_IDXS[\"left_eye\"]\n",
    "    (rStart, rEnd) = face_utils.FACIAL_LANDMARKS_IDXS[\"right_eye\"]\n",
    "    \n",
    "    for rect in rects:\n",
    "        shape = predictor(gray, rect)\n",
    "        shape = face_utils.shape_to_np(shape)\n",
    "        \n",
    "        leftEye = shape[lStart:lEnd]\n",
    "        rightEye = shape[rStart:rEnd]\n",
    "        leftEAR = eye_aspect_ratio(leftEye)\n",
    "        rightEAR = eye_aspect_ratio(rightEye)\n",
    " \n",
    "\n",
    "        ear = (leftEAR + rightEAR) / 2.0\n",
    "        if ear < EYE_AR_THRESH:\n",
    "            COUNTER = COUNTER+1\n",
    "            if COUNTER >= EYE_AR_CONSEC_FRAMES:\n",
    "                if not ALARM_ON:\n",
    "                    ALARM_ON = True\n",
    "                    sound_alarm_on('Tornado_Siren_II-Delilah-747233690.mp3')\n",
    "        else:\n",
    "            COUNTER = 0\n",
    "            ALARM_ON = False\n",
    "            sound_alarm_off()\n",
    "            \n",
    "    cv2.imshow(\"Face\", frame)\n",
    "    key = cv2.waitKey(1) & 0xFF\n",
    "    \n",
    "if (key == ord(\"q\")):\n",
    "    break  \n",
    "        \n",
    "        \n",
    "cv2.destroyAllWindows()\n",
    "vs.stop()            "
   ]
  }
 ],
 "metadata": {
  "kernelspec": {
   "display_name": "Python 3",
   "language": "python",
   "name": "python3"
  },
  "language_info": {
   "codemirror_mode": {
    "name": "ipython",
    "version": 3
   },
   "file_extension": ".py",
   "mimetype": "text/x-python",
   "name": "python",
   "nbconvert_exporter": "python",
   "pygments_lexer": "ipython3",
   "version": "3.6.5"
  }
 },
 "nbformat": 4,
 "nbformat_minor": 2
}
